{
 "cells": [
  {
   "cell_type": "code",
   "execution_count": 1,
   "metadata": {
    "scrolled": true
   },
   "outputs": [
    {
     "name": "stdout",
     "output_type": "stream",
     "text": [
      "WARNING:tensorflow:From /Users/davidspeck/.pyenv/versions/3.6.4/lib/python3.6/site-packages/tensorflow/contrib/learn/python/learn/datasets/base.py:198: retry (from tensorflow.contrib.learn.python.learn.datasets.base) is deprecated and will be removed in a future version.\n",
      "Instructions for updating:\n",
      "Use the retry module or similar alternatives.\n"
     ]
    }
   ],
   "source": [
    "import pandas as pd\n",
    "import numpy as np\n",
    "import moviepy.editor as mpe\n",
    "import matplotlib.image as mpimg\n",
    "import matplotlib.pyplot as plt\n",
    "%matplotlib inline\n",
    "\n",
    "import utils"
   ]
  },
  {
   "cell_type": "code",
   "execution_count": 2,
   "metadata": {},
   "outputs": [
    {
     "name": "stdout",
     "output_type": "stream",
     "text": [
      "./data/video/JustSomeMotion_CaravanPalace_Brotherswing.mp4\n"
     ]
    }
   ],
   "source": [
    "video_name = \"JustSomeMotion_CaravanPalace_Brotherswing\"\n",
    "path = \"./data/video/{0}.mp4\".format(video_name)\n",
    "pose_dir = './data/poses/{0}'.format(video_name)\n",
    "print(path)\n",
    "\n",
    "step_size = 10"
   ]
  },
  {
   "cell_type": "code",
   "execution_count": 3,
   "metadata": {},
   "outputs": [
    {
     "name": "stdout",
     "output_type": "stream",
     "text": [
      "video length: 220.89s fps: 29.97002997002997 frame count: 6620\n",
      "INFO:tensorflow:Restoring parameters from pose-tensorflow/models/mpii/mpii-single-resnet-101\n"
     ]
    },
    {
     "name": "stderr",
     "output_type": "stream",
     "text": [
      "INFO:tensorflow:Restoring parameters from pose-tensorflow/models/mpii/mpii-single-resnet-101\n"
     ]
    },
    {
     "name": "stdout",
     "output_type": "stream",
     "text": [
      "pose model loaded\n",
      "processed frame: 0/6620 elapsed time: 10.852229833602905\n",
      "processed frame: 100/6620 elapsed time: 484.1533455848694\n",
      "processed frame: 200/6620 elapsed time: 951.9039738178253\n",
      "processed frame: 300/6620 elapsed time: 1394.2114157676697\n",
      "processed frame: 400/6620 elapsed time: 1823.0793766975403\n",
      "processed frame: 500/6620 elapsed time: 2254.890641927719\n",
      "processed frame: 600/6620 elapsed time: 2684.1469099521637\n",
      "processed frame: 700/6620 elapsed time: 3113.0922286510468\n",
      "processed frame: 800/6620 elapsed time: 3542.6839768886566\n",
      "processed frame: 900/6620 elapsed time: 3971.640935897827\n",
      "processed frame: 1000/6620 elapsed time: 4401.369429588318\n",
      "processed frame: 1100/6620 elapsed time: 4830.9888796806335\n",
      "processed frame: 1200/6620 elapsed time: 5260.008816719055\n",
      "processed frame: 1300/6620 elapsed time: 5690.225903749466\n",
      "processed frame: 1400/6620 elapsed time: 6119.859308719635\n",
      "processed frame: 1500/6620 elapsed time: 6549.832030773163\n",
      "processed frame: 1600/6620 elapsed time: 6980.7170078754425\n",
      "processed frame: 1700/6620 elapsed time: 7410.2391476631165\n",
      "processed frame: 1800/6620 elapsed time: 7840.890038728714\n",
      "processed frame: 1900/6620 elapsed time: 8271.296257734299\n",
      "processed frame: 2000/6620 elapsed time: 8701.695764780045\n",
      "processed frame: 2100/6620 elapsed time: 9132.093064785004\n",
      "processed frame: 2200/6620 elapsed time: 9562.093674659729\n",
      "processed frame: 2300/6620 elapsed time: 9991.501022815704\n",
      "processed frame: 2400/6620 elapsed time: 10421.94916176796\n",
      "processed frame: 2500/6620 elapsed time: 10851.793455839157\n",
      "processed frame: 2600/6620 elapsed time: 11282.079473733902\n",
      "processed frame: 2700/6620 elapsed time: 11712.418868780136\n",
      "processed frame: 2800/6620 elapsed time: 12151.73745059967\n",
      "processed frame: 2900/6620 elapsed time: 12598.073650836945\n",
      "processed frame: 3000/6620 elapsed time: 13045.621218681335\n",
      "processed frame: 3100/6620 elapsed time: 13492.221572875977\n",
      "processed frame: 3200/6620 elapsed time: 13937.783520698547\n",
      "processed frame: 3300/6620 elapsed time: 14383.9274559021\n",
      "processed frame: 3400/6620 elapsed time: 14830.08025765419\n",
      "processed frame: 3500/6620 elapsed time: 15275.996211767197\n",
      "processed frame: 3600/6620 elapsed time: 15722.25056886673\n",
      "processed frame: 3700/6620 elapsed time: 16174.256168842316\n",
      "processed frame: 3800/6620 elapsed time: 16620.915209770203\n",
      "processed frame: 3900/6620 elapsed time: 17066.758283615112\n",
      "processed frame: 4000/6620 elapsed time: 17512.403792858124\n",
      "processed frame: 4100/6620 elapsed time: 17959.757661819458\n",
      "processed frame: 4200/6620 elapsed time: 18405.65138888359\n",
      "processed frame: 4300/6620 elapsed time: 18851.054397821426\n",
      "processed frame: 4400/6620 elapsed time: 19297.008584976196\n",
      "processed frame: 4500/6620 elapsed time: 19742.345770597458\n",
      "processed frame: 4600/6620 elapsed time: 20188.212349891663\n",
      "processed frame: 4700/6620 elapsed time: 20634.290844917297\n",
      "processed frame: 4800/6620 elapsed time: 21080.722849607468\n",
      "processed frame: 4900/6620 elapsed time: 21526.955976963043\n",
      "processed frame: 5000/6620 elapsed time: 21974.018949747086\n",
      "processed frame: 5100/6620 elapsed time: 22421.11215877533\n",
      "processed frame: 5200/6620 elapsed time: 22868.674920797348\n",
      "processed frame: 5300/6620 elapsed time: 23315.577128887177\n",
      "processed frame: 5400/6620 elapsed time: 23762.89040875435\n",
      "processed frame: 5500/6620 elapsed time: 24209.552630662918\n",
      "processed frame: 5600/6620 elapsed time: 24656.459526777267\n",
      "processed frame: 5700/6620 elapsed time: 25103.006633996964\n",
      "processed frame: 5800/6620 elapsed time: 25548.552488803864\n",
      "processed frame: 5900/6620 elapsed time: 25994.287308692932\n",
      "processed frame: 6000/6620 elapsed time: 26439.849755764008\n",
      "processed frame: 6100/6620 elapsed time: 26886.18381690979\n",
      "processed frame: 6200/6620 elapsed time: 27334.92456293106\n",
      "processed frame: 6300/6620 elapsed time: 27783.79336285591\n",
      "processed frame: 6400/6620 elapsed time: 28229.89579486847\n",
      "processed frame: 6500/6620 elapsed time: 28672.85083770752\n",
      "processed frame: 6600/6620 elapsed time: 29103.150075912476\n",
      "saving poses at ./data/poses/JustSomeMotion_CaravanPalace_Brotherswing_poses.csv\n",
      "saving audio at ./data/audio/JustSomeMotion_CaravanPalace_Brotherswing.mp3\n",
      "[MoviePy] Writing audio in ./data/audio/JustSomeMotion_CaravanPalace_Brotherswing.mp3\n"
     ]
    },
    {
     "name": "stderr",
     "output_type": "stream",
     "text": [
      "100%|██████████| 4871/4871 [00:13<00:00, 353.91it/s]\n"
     ]
    },
    {
     "name": "stdout",
     "output_type": "stream",
     "text": [
      "[MoviePy] Done.\n",
      "total time: 29198.994115829468\n"
     ]
    }
   ],
   "source": [
    "utils.preprocess(video_name)"
   ]
  },
  {
   "cell_type": "code",
   "execution_count": null,
   "metadata": {},
   "outputs": [],
   "source": []
  }
 ],
 "metadata": {
  "kernelspec": {
   "display_name": "Python 3",
   "language": "python",
   "name": "python3"
  },
  "language_info": {
   "codemirror_mode": {
    "name": "ipython",
    "version": 3
   },
   "file_extension": ".py",
   "mimetype": "text/x-python",
   "name": "python",
   "nbconvert_exporter": "python",
   "pygments_lexer": "ipython3",
   "version": "3.6.4"
  }
 },
 "nbformat": 4,
 "nbformat_minor": 2
}
