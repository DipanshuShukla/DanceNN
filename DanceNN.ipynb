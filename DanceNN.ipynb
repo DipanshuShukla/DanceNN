{
 "cells": [
  {
   "cell_type": "code",
   "execution_count": 2,
   "metadata": {
    "scrolled": true
   },
   "outputs": [
    {
     "name": "stdout",
     "output_type": "stream",
     "text": [
      "WARNING:tensorflow:From /Users/davidspeck/.pyenv/versions/3.6.4/lib/python3.6/site-packages/tensorflow/contrib/learn/python/learn/datasets/base.py:198: retry (from tensorflow.contrib.learn.python.learn.datasets.base) is deprecated and will be removed in a future version.\n",
      "Instructions for updating:\n",
      "Use the retry module or similar alternatives.\n"
     ]
    }
   ],
   "source": [
    "import pandas as pd\n",
    "import numpy as np\n",
    "import gizeh\n",
    "import moviepy.editor as mpe\n",
    "import matplotlib.image as mpimg\n",
    "import matplotlib.pyplot as plt\n",
    "%matplotlib inline\n",
    "\n",
    "import utils"
   ]
  },
  {
   "cell_type": "code",
   "execution_count": 3,
   "metadata": {},
   "outputs": [
    {
     "name": "stdout",
     "output_type": "stream",
     "text": [
      "./data/video/JustSomeMotion_CaravanPalace_Brotherswing.mp4\n"
     ]
    }
   ],
   "source": [
    "video_name = \"JustSomeMotion_CaravanPalace_Brotherswing\"\n",
    "path = \"./data/video/{0}.mp4\".format(video_name)\n",
    "pose_dir = './data/poses/{0}'.format(video_name)\n",
    "print(path)\n",
    "\n",
    "step_size = 10"
   ]
  },
  {
   "cell_type": "code",
   "execution_count": 3,
   "metadata": {},
   "outputs": [
    {
     "name": "stdout",
     "output_type": "stream",
     "text": [
      "video length: 220.89s fps: 29.97002997002997 frame count: 599\n",
      "INFO:tensorflow:Restoring parameters from pose-tensorflow/models/mpii/mpii-single-resnet-101\n"
     ]
    },
    {
     "name": "stderr",
     "output_type": "stream",
     "text": [
      "INFO:tensorflow:Restoring parameters from pose-tensorflow/models/mpii/mpii-single-resnet-101\n"
     ]
    },
    {
     "name": "stdout",
     "output_type": "stream",
     "text": [
      "pose model loaded\n",
      "processed frame: 0/599 elapsed time: 10.221794128417969\n",
      "processed frame: 100/599 elapsed time: 438.1103141307831\n",
      "processed frame: 200/599 elapsed time: 869.1626210212708\n",
      "processed frame: 300/599 elapsed time: 1300.46737408638\n",
      "processed frame: 400/599 elapsed time: 1731.6231322288513\n",
      "processed frame: 500/599 elapsed time: 2164.064560174942\n",
      "saving poses at ./data/poses/JustSomeMotion_CaravanPalace_Brotherswing_poses.csv\n",
      "saving audio at ./data/audio/JustSomeMotion_CaravanPalace_Brotherswing.mp3\n",
      "[MoviePy] Writing audio in ./data/audio/JustSomeMotion_CaravanPalace_Brotherswing.mp3\n"
     ]
    },
    {
     "name": "stderr",
     "output_type": "stream",
     "text": [
      "100%|██████████| 4871/4871 [00:13<00:00, 361.99it/s]"
     ]
    },
    {
     "name": "stdout",
     "output_type": "stream",
     "text": [
      "[MoviePy] Done.\n"
     ]
    },
    {
     "name": "stderr",
     "output_type": "stream",
     "text": [
      "\n"
     ]
    },
    {
     "name": "stdout",
     "output_type": "stream",
     "text": [
      "total time: 2603.8190898895264\n"
     ]
    }
   ],
   "source": [
    "# utils.preprocess(video_name, 20)"
   ]
  },
  {
   "cell_type": "code",
   "execution_count": 18,
   "metadata": {},
   "outputs": [
    {
     "data": {
      "text/plain": [
       "array(['ankle_0_x', 'ankle_0_y', 'ankle_1_x', 'ankle_1_y', 'knee_0_x',\n",
       "       'knee_0_y', 'knee_1_x', 'knee_1_y', 'hip_0_x', 'hip_0_y',\n",
       "       'hip_1_x', 'hip_1_y', 'wrist_0_x', 'wrist_0_y', 'wrist_1_x',\n",
       "       'wrist_1_y', 'elbow_0_x', 'elbow_0_y', 'elbow_1_x', 'elbow_1_y',\n",
       "       'shoulder_0_x', 'shoulder_0_y', 'shoulder_1_x', 'shoulder_1_y',\n",
       "       'chin_0_x', 'chin_0_y', 'forehead_0_x', 'forehead_0_y'],\n",
       "      dtype=object)"
      ]
     },
     "execution_count": 18,
     "metadata": {},
     "output_type": "execute_result"
    }
   ],
   "source": [
    "df = pd.read_csv('./data/poses/JustSomeMotion_CaravanPalace_Brotherswing_poses.csv')\n",
    "times = df['time'].as_matrix()\n",
    "df = df.drop('time', axis=1)\n",
    "\n",
    "df_matrix = df.as_matrix()\n",
    "\n",
    "df.columns.values"
   ]
  },
  {
   "cell_type": "code",
   "execution_count": 19,
   "metadata": {},
   "outputs": [],
   "source": [
    "shape = df_matrix.shape\n",
    "m = np.zeros((shape[0], int(shape[1]/2), 2))\n",
    "for i in range(0, m.shape[0]):\n",
    "   for j in range(0, m.shape[1]):\n",
    "       m[i][j] = (df_matrix[i][2*j], df_matrix[i][2*j+1])"
   ]
  },
  {
   "cell_type": "code",
   "execution_count": 20,
   "metadata": {},
   "outputs": [],
   "source": [
    "original = mpe.VideoFileClip('./data/video/JustSomeMotion_CaravanPalace_Brotherswing.mp4')\n",
    "fps = int(original.fps)\n",
    "duration = original.duration"
   ]
  },
  {
   "cell_type": "code",
   "execution_count": 21,
   "metadata": {},
   "outputs": [],
   "source": [
    "def make_frame(t):\n",
    "    surface = gizeh.Surface(original.size[0],original.size[1])\n",
    "    frame = int(t * fps)\n",
    "    radius = 10\n",
    "    color = (1,0,0)\n",
    "    for i in range(0, m.shape[1]):\n",
    "        circle = gizeh.circle(radius, xy = m[t][i], fill=color)\n",
    "        circle.draw(surface)\n",
    "    return surface.get_npimage()"
   ]
  },
  {
   "cell_type": "code",
   "execution_count": 34,
   "metadata": {},
   "outputs": [
    {
     "name": "stdout",
     "output_type": "stream",
     "text": [
      "11.644966666666667\n"
     ]
    }
   ],
   "source": [
    "index = int(len(times) / 2) + 50\n",
    "t = times[index]\n",
    "print(t)"
   ]
  },
  {
   "cell_type": "code",
   "execution_count": 35,
   "metadata": {},
   "outputs": [],
   "source": [
    "# prediction = utils.predict_frame(original, t)"
   ]
  },
  {
   "cell_type": "code",
   "execution_count": 36,
   "metadata": {},
   "outputs": [],
   "source": [
    "#cleaned = np.delete(prediction, 2, axis=1)\n",
    "#print(cleaned)\n",
    "\n",
    "#print(m[index])\n",
    "\n",
    "#print(df_matrix[index])"
   ]
  },
  {
   "cell_type": "code",
   "execution_count": 31,
   "metadata": {},
   "outputs": [],
   "source": [
    "def find_index(t, times):\n",
    "    for i in range(len(times)):\n",
    "        if times[i] >= t:\n",
    "            return i"
   ]
  },
  {
   "cell_type": "code",
   "execution_count": 135,
   "metadata": {},
   "outputs": [],
   "source": [
    "def draw_bone(ax, start, end, width = 15, color = (0.7,0,0)):\n",
    "    ax.arrow(start[0], start[1], end[0] - start[0], end[1] - start[1], \n",
    "             width=width, head_width=0, head_length=0, color=color)\n"
   ]
  },
  {
   "cell_type": "code",
   "execution_count": 159,
   "metadata": {},
   "outputs": [],
   "source": [
    "def make_frame(t):\n",
    "    from matplotlib.figure import Figure\n",
    "    from matplotlib.backends.backend_agg import FigureCanvasAgg\n",
    "    from matplotlib.patches import Circle\n",
    "        \n",
    "    colors = [(1,0,0), (0,1,0), # ancle\n",
    "              (1,1,0), # chin\n",
    "              (0.5,0,0), (0,0.5,0), # elbow\n",
    "              (1,0.5,0.5), # forehead\n",
    "              (0.8,0,0), (0,0.8,0), # hip\n",
    "              (0.9,0,0), (0,0.9,0), # knee\n",
    "              (0.4,0,0), (0,0.4,0), # shoulder\n",
    "              (0.7,0,0), (0,0.7,0) # wriste\n",
    "             ]\n",
    "\n",
    "    dpi = 80\n",
    "    size = (original.size[0] / dpi, original.size[1] / dpi)\n",
    "\n",
    "    frame = original.get_frame(t)\n",
    "    \n",
    "    fig = Figure(size, dpi)\n",
    "    fig.subplots_adjust(left=0, right=1, top=1, bottom=0, wspace=0, hspace=0)\n",
    "    canvas = FigureCanvasAgg(fig)\n",
    "\n",
    "    ax = fig.gca()\n",
    "    ax.set_axis_off()\n",
    "    ax.set_aspect('equal')\n",
    "\n",
    "    ax.imshow(frame)\n",
    "\n",
    "    index = find_index(t, times)\n",
    "    \n",
    "    edges = [(0, 2), (2,4), # leg 1\n",
    "             (1, 3), (3,5), # leg 2\n",
    "             (4,5), # hips\n",
    "             (6,8), (8, 10), # arm 1\n",
    "             (7,9), (9, 11), # arm 2\n",
    "             (10, 11), #shoulders\n",
    "             (12, 13)\n",
    "            ]\n",
    "    coords = m[index]\n",
    "    \n",
    "    # draw edges (bones)\n",
    "    for edge in edges:\n",
    "        draw_bone(ax, coords[edge[0]], coords[edge[1]])\n",
    "    \n",
    "    # draw special edges (spine)\n",
    "    hip_center = (coords[4] + coords[5]) / 2\n",
    "    shoulder_center = (coords[10] + coords[11]) / 2\n",
    "    \n",
    "    draw_bone(ax, hip_center, shoulder_center)\n",
    "    draw_bone(ax, shoulder_center, coords[12])\n",
    "    \n",
    "    # draw joints\n",
    "    for i in range(0, m.shape[1]):\n",
    "        circ = Circle(m[index][i], radius=12, color=(1,0,0))\n",
    "        ax.add_patch(circ)\n",
    "\n",
    "    canvas.draw()\n",
    "\n",
    "    image = np.array(fig.canvas.renderer._renderer)\n",
    "    # remove alpha channel\n",
    "    image = np.delete(image, 3, axis=2)\n",
    "    return image"
   ]
  },
  {
   "cell_type": "code",
   "execution_count": 160,
   "metadata": {},
   "outputs": [
    {
     "data": {
      "text/plain": [
       "<matplotlib.image.AxesImage at 0x12a3adda0>"
      ]
     },
     "execution_count": 160,
     "metadata": {},
     "output_type": "execute_result"
    },
    {
     "data": {
      "image/png": "[encoded data removed]",
      "text/plain": [
       "<Figure size 432x288 with 1 Axes>"
      ]
     },
     "metadata": {},
     "output_type": "display_data"
    }
   ],
   "source": [
    "image = make_frame(t)\n",
    "plt.imshow(image)"
   ]
  },
  {
   "cell_type": "code",
   "execution_count": 185,
   "metadata": {},
   "outputs": [
    {
     "name": "stdout",
     "output_type": "stream",
     "text": [
      "[MoviePy] >>>> Building video test.mp4\n",
      "[MoviePy] Writing audio in testTEMP_MPY_wvf_snd.mp4\n"
     ]
    },
    {
     "name": "stderr",
     "output_type": "stream",
     "text": [
      "100%|██████████| 440/440 [00:00<00:00, 904.00it/s]"
     ]
    },
    {
     "name": "stdout",
     "output_type": "stream",
     "text": [
      "[MoviePy] Done.\n",
      "[MoviePy] Writing video test.mp4\n"
     ]
    },
    {
     "name": "stderr",
     "output_type": "stream",
     "text": [
      "\n",
      "100%|██████████| 579/579 [00:51<00:00, 11.34it/s]\n"
     ]
    },
    {
     "name": "stdout",
     "output_type": "stream",
     "text": [
      "[MoviePy] Done.\n",
      "[MoviePy] >>>> Video ready: test.mp4 \n",
      "\n"
     ]
    }
   ],
   "source": [
    "animation = mpe.VideoClip(make_frame, duration=times[-1])\n",
    "audio = original.audio.set_duration(times[-1])\n",
    "animation = animation.set_audio(audio)\n",
    "\n",
    "# clip = mpe.clips_array([[original, animation]])\n",
    "animation.write_videofile('test.mp4', fps=fps, audio_codec='aac', remove_temp=True)\n",
    "#animation.ipython_display(fps=26, loop=True, autoplay=True)"
   ]
  },
  {
   "cell_type": "code",
   "execution_count": null,
   "metadata": {},
   "outputs": [],
   "source": []
  }
 ],
 "metadata": {
  "kernelspec": {
   "display_name": "Python 3",
   "language": "python",
   "name": "python3"
  },
  "language_info": {
   "codemirror_mode": {
    "name": "ipython",
    "version": 3
   },
   "file_extension": ".py",
   "mimetype": "text/x-python",
   "name": "python",
   "nbconvert_exporter": "python",
   "pygments_lexer": "ipython3",
   "version": "3.6.4"
  }
 },
 "nbformat": 4,
 "nbformat_minor": 2
}
