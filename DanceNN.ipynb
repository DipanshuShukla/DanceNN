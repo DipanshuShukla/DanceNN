{
 "cells": [
  {
   "cell_type": "code",
   "execution_count": null,
   "metadata": {
    "scrolled": true
   },
   "outputs": [],
   "source": [
    "import pandas as pd\n",
    "import numpy as np\n",
    "import gizeh\n",
    "import moviepy.editor as mpe\n",
    "import matplotlib.image as mpimg\n",
    "import matplotlib.pyplot as plt\n",
    "%matplotlib inline\n",
    "\n",
    "import utils"
   ]
  },
  {
   "cell_type": "code",
   "execution_count": null,
   "metadata": {},
   "outputs": [],
   "source": [
    "video_name = \"JustSomeMotion_CaravanPalace_Brotherswing\"\n",
    "path = \"./data/video/{0}.mp4\".format(video_name)\n",
    "pose_dir = './data/poses/{0}'.format(video_name)\n",
    "print(path)\n",
    "\n",
    "step_size = 10"
   ]
  },
  {
   "cell_type": "code",
   "execution_count": null,
   "metadata": {},
   "outputs": [],
   "source": [
    "# utils.preprocess(video_name)"
   ]
  },
  {
   "cell_type": "code",
   "execution_count": null,
   "metadata": {},
   "outputs": [],
   "source": [
    "df = pd.read_csv('./data/poses/JustSomeMotion_CaravanPalace_Brotherswing_poses.csv')\n",
    "times = df['time'].as_matrix()\n",
    "df.drop('time', axis=1)\n",
    "\n",
    "df_matrix = df.as_matrix()\n",
    "\n",
    "df.columns.values"
   ]
  },
  {
   "cell_type": "code",
   "execution_count": null,
   "metadata": {},
   "outputs": [],
   "source": [
    "shape = df_matrix.shape\n",
    "m = np.zeros((shape[0], int(shape[1]/2), 2))\n",
    "for i in range(0, m.shape[0]):\n",
    "   for j in range(0, m.shape[1]):\n",
    "       m[i][j] = (df_matrix[i][2*j], df_matrix[i][2*j+1])"
   ]
  },
  {
   "cell_type": "code",
   "execution_count": null,
   "metadata": {},
   "outputs": [],
   "source": [
    "original = mpe.VideoFileClip('./data/video/JustSomeMotion_CaravanPalace_Brotherswing.mp4')\n",
    "fps = int(original.fps)\n",
    "duration = original.duration"
   ]
  },
  {
   "cell_type": "code",
   "execution_count": null,
   "metadata": {},
   "outputs": [],
   "source": [
    "def make_frame(t):\n",
    "    surface = gizeh.Surface(original.size[0],original.size[1])\n",
    "    frame = int(t * fps)\n",
    "    radius = 10\n",
    "    color = (1,0,0)\n",
    "    for i in range(0, m.shape[1]):\n",
    "        circle = gizeh.circle(radius, xy = m[t][i], fill=color)\n",
    "        circle.draw(surface)\n",
    "    return surface.get_npimage()"
   ]
  },
  {
   "cell_type": "code",
   "execution_count": null,
   "metadata": {},
   "outputs": [],
   "source": [
    "index = int(len(times) / 2) + 100\n",
    "t = times[index]\n",
    "print(t)"
   ]
  },
  {
   "cell_type": "code",
   "execution_count": null,
   "metadata": {},
   "outputs": [],
   "source": [
    "prediction = utils.predict_frame(original, t)"
   ]
  },
  {
   "cell_type": "code",
   "execution_count": null,
   "metadata": {},
   "outputs": [],
   "source": [
    "cleaned = np.delete(prediction, 2, axis=1)\n",
    "print(cleaned)\n",
    "\n",
    "print(m[index])\n",
    "\n",
    "print(df_matrix[index])"
   ]
  },
  {
   "cell_type": "code",
   "execution_count": null,
   "metadata": {},
   "outputs": [],
   "source": [
    "from matplotlib.figure import Figure\n",
    "from matplotlib.backends.backend_agg import FigureCanvasAgg\n",
    "from matplotlib.patches import Circle\n",
    "\n",
    "\n",
    "colors = [(1,0,0), (0,1,0), # ancle\n",
    "          (1,1,0), # chin\n",
    "          (0.5,0,0), (0,0.5,0), # elbow\n",
    "          (1,0.5,0.5), # forehead\n",
    "          (0.8,0,0), (0,0.8,0), # hip\n",
    "          (0.9,0,0), (0,0.9,0), # knee\n",
    "          (0.4,0,0), (0,0.4,0), # shoulder\n",
    "          (0.7,0,0), (0,0.7,0) # wriste\n",
    "         ]\n",
    "\n",
    "print(m[index])\n",
    "\n",
    "dpi = 80\n",
    "size = (original.size[0] / dpi, original.size[1] / dpi)\n",
    "\n",
    "print(size)\n",
    "\n",
    "frame = original.get_frame(t)\n",
    "\n",
    "fig = Figure(size, dpi)\n",
    "fig.subplots_adjust(left=0, right=1, top=1, bottom=0, wspace=0, hspace=0)\n",
    "canvas = FigureCanvasAgg(fig)\n",
    "\n",
    "ax = fig.gca()\n",
    "ax.set_axis_off()\n",
    "ax.set_aspect('equal')\n",
    "\n",
    "ax.imshow(frame)\n",
    "\n",
    "# m[index] = cleaned\n",
    "\n",
    "for i in range(0, m.shape[1]):\n",
    "    circ = Circle(m[index][i], radius=10, color=colors[i])\n",
    "    ax.add_patch(circ)\n",
    "\n",
    "canvas.draw()\n",
    "# plt.show()\n",
    "\n",
    "image = np.array(fig.canvas.renderer._renderer)\n",
    "\n",
    "#plt.show()\n",
    "plt.imshow(image)\n",
    "print(image.shape, frame.shape)"
   ]
  },
  {
   "cell_type": "code",
   "execution_count": null,
   "metadata": {},
   "outputs": [],
   "source": [
    "animation = mpe.VideoClip(make_frame, duration=duration)\n",
    "\n",
    "clip = mpe.clips_array([[original, animation]])\n",
    "# clip.write_videofile('test.mp4', fps=fps)\n",
    "# clip.ipython_display(fps=26, loop=True, autoplay=True)"
   ]
  },
  {
   "cell_type": "code",
   "execution_count": null,
   "metadata": {},
   "outputs": [],
   "source": []
  }
 ],
 "metadata": {
  "kernelspec": {
   "display_name": "Python 3",
   "language": "python",
   "name": "python3"
  },
  "language_info": {
   "codemirror_mode": {
    "name": "ipython",
    "version": 3
   },
   "file_extension": ".py",
   "mimetype": "text/x-python",
   "name": "python",
   "nbconvert_exporter": "python",
   "pygments_lexer": "ipython3",
   "version": "3.6.4"
  }
 },
 "nbformat": 4,
 "nbformat_minor": 2
}
