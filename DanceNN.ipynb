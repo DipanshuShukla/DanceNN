{
 "cells": [
  {
   "cell_type": "code",
   "execution_count": 1,
   "metadata": {
    "scrolled": true
   },
   "outputs": [
    {
     "name": "stdout",
     "output_type": "stream",
     "text": [
      "WARNING:tensorflow:From D:\\Development\\Anaconda\\lib\\site-packages\\tensorflow\\contrib\\learn\\python\\learn\\datasets\\base.py:198: retry (from tensorflow.contrib.learn.python.learn.datasets.base) is deprecated and will be removed in a future version.\n",
      "Instructions for updating:\n",
      "Use the retry module or similar alternatives.\n"
     ]
    }
   ],
   "source": [
    "import pandas as pd\n",
    "import numpy as np\n",
    "import moviepy.editor as mpe\n",
    "import matplotlib.image as mpimg\n",
    "import matplotlib.pyplot as plt\n",
    "%matplotlib inline\n",
    "\n",
    "import utils"
   ]
  },
  {
   "cell_type": "code",
   "execution_count": 2,
   "metadata": {},
   "outputs": [
    {
     "name": "stdout",
     "output_type": "stream",
     "text": [
      "./data/video/JustSomeMotion_CaravanPalace_Brotherswing.mp4\n"
     ]
    }
   ],
   "source": [
    "video_name = \"JustSomeMotion_CaravanPalace_Brotherswing\"\n",
    "path = \"./data/video/{0}.mp4\".format(video_name)\n",
    "pose_dir = './data/poses/{0}'.format(video_name)\n",
    "print(path)\n",
    "\n",
    "step_size = 10"
   ]
  },
  {
   "cell_type": "code",
   "execution_count": null,
   "metadata": {},
   "outputs": [],
   "source": [
    "utils.preprocess(video_name, -1)"
   ]
  },
  {
   "cell_type": "code",
   "execution_count": 60,
   "metadata": {},
   "outputs": [
    {
     "data": {
      "text/plain": [
       "array(['ankle_0_x', 'ankle_0_y', 'ankle_1_x', 'ankle_1_y', 'knee_0_x',\n",
       "       'knee_0_y', 'knee_1_x', 'knee_1_y', 'hip_0_x', 'hip_0_y', 'hip_1_x',\n",
       "       'hip_1_y', 'wrist_0_x', 'wrist_0_y', 'wrist_1_x', 'wrist_1_y',\n",
       "       'elbow_0_x', 'elbow_0_y', 'elbow_1_x', 'elbow_1_y', 'shoulder_0_x',\n",
       "       'shoulder_0_y', 'shoulder_1_x', 'shoulder_1_y', 'chin_0_x',\n",
       "       'chin_0_y', 'forehead_0_x', 'forehead_0_y'], dtype=object)"
      ]
     },
     "execution_count": 60,
     "metadata": {},
     "output_type": "execute_result"
    }
   ],
   "source": [
    "df = pd.read_csv('./data/poses/JustSomeMotion_CaravanPalace_Brotherswing_poses.csv')\n",
    "times = df['time'].as_matrix()\n",
    "df = df.drop('time', axis=1)\n",
    "\n",
    "df_matrix = df.as_matrix()\n",
    "\n",
    "df.columns.values"
   ]
  },
  {
   "cell_type": "code",
   "execution_count": 61,
   "metadata": {},
   "outputs": [],
   "source": [
    "shape = df_matrix.shape\n",
    "m = np.zeros((shape[0], int(shape[1]/2), 2))\n",
    "for i in range(0, m.shape[0]):\n",
    "   for j in range(0, m.shape[1]):\n",
    "       m[i][j] = (df_matrix[i][2*j], df_matrix[i][2*j+1])"
   ]
  },
  {
   "cell_type": "code",
   "execution_count": 5,
   "metadata": {},
   "outputs": [],
   "source": [
    "original = mpe.VideoFileClip('./data/video/JustSomeMotion_CaravanPalace_Brotherswing.mp4')\n",
    "fps = int(original.fps)\n",
    "duration = original.duration"
   ]
  },
  {
   "cell_type": "code",
   "execution_count": null,
   "metadata": {},
   "outputs": [],
   "source": [
    "index = int(len(times) / 2) + 50\n",
    "t = times[index]\n",
    "print(t)"
   ]
  },
  {
   "cell_type": "code",
   "execution_count": null,
   "metadata": {},
   "outputs": [],
   "source": [
    "# prediction = utils.predict_frame(original, t)"
   ]
  },
  {
   "cell_type": "code",
   "execution_count": 6,
   "metadata": {},
   "outputs": [],
   "source": [
    "def find_index(t, times):\n",
    "    for i in range(len(times)):\n",
    "        if times[i] >= t:\n",
    "            return i"
   ]
  },
  {
   "cell_type": "code",
   "execution_count": 7,
   "metadata": {},
   "outputs": [],
   "source": [
    "def draw_bone(ax, start, end, width = 15, color = (0.7,0,0)):\n",
    "    ax.arrow(start[0], start[1], end[0] - start[0], end[1] - start[1], \n",
    "             width=width, head_width=0, head_length=0, color=color)\n"
   ]
  },
  {
   "cell_type": "code",
   "execution_count": 8,
   "metadata": {},
   "outputs": [],
   "source": [
    "def make_frame(t):\n",
    "    from matplotlib.figure import Figure\n",
    "    from matplotlib.backends.backend_agg import FigureCanvasAgg\n",
    "    from matplotlib.patches import Circle\n",
    "        \n",
    "    colors = [(1,0,0), (0,1,0), # ancle\n",
    "              (1,1,0), # chin\n",
    "              (0.5,0,0), (0,0.5,0), # elbow\n",
    "              (1,0.5,0.5), # forehead\n",
    "              (0.8,0,0), (0,0.8,0), # hip\n",
    "              (0.9,0,0), (0,0.9,0), # knee\n",
    "              (0.4,0,0), (0,0.4,0), # shoulder\n",
    "              (0.7,0,0), (0,0.7,0) # wriste\n",
    "             ]\n",
    "\n",
    "    dpi = 80\n",
    "    size = (original.size[0] / dpi, original.size[1] / dpi)\n",
    "\n",
    "    frame = original.get_frame(t)\n",
    "    \n",
    "    fig = Figure(size, dpi)\n",
    "    fig.subplots_adjust(left=0, right=1, top=1, bottom=0, wspace=0, hspace=0)\n",
    "    canvas = FigureCanvasAgg(fig)\n",
    "\n",
    "    ax = fig.gca()\n",
    "    ax.set_axis_off()\n",
    "    ax.set_aspect('equal')\n",
    "\n",
    "    ax.imshow(frame)\n",
    "\n",
    "    index = find_index(t, times)\n",
    "    \n",
    "    edges = [(0, 2), (2,4), # leg 1\n",
    "             (1, 3), (3,5), # leg 2\n",
    "             (4,5), # hips\n",
    "             (6,8), (8, 10), # arm 1\n",
    "             (7,9), (9, 11), # arm 2\n",
    "             (10, 11), #shoulders\n",
    "             (12, 13)\n",
    "            ]\n",
    "    coords = m[index]\n",
    "    \n",
    "    # draw edges (bones)\n",
    "    for edge in edges:\n",
    "        draw_bone(ax, coords[edge[0]], coords[edge[1]])\n",
    "    \n",
    "    # draw special edges (spine)\n",
    "    hip_center = (coords[4] + coords[5]) / 2\n",
    "    shoulder_center = (coords[10] + coords[11]) / 2\n",
    "    \n",
    "    draw_bone(ax, hip_center, shoulder_center)\n",
    "    draw_bone(ax, shoulder_center, coords[12])\n",
    "    \n",
    "    # draw joints\n",
    "    for i in range(0, m.shape[1]):\n",
    "        circ = Circle(m[index][i], radius=12, color=(1,0,0))\n",
    "        ax.add_patch(circ)\n",
    "\n",
    "    canvas.draw()\n",
    "\n",
    "    image = np.array(fig.canvas.renderer._renderer)\n",
    "    # remove alpha channel\n",
    "    image = np.delete(image, 3, axis=2)\n",
    "    return image"
   ]
  },
  {
   "cell_type": "code",
   "execution_count": 30,
   "metadata": {},
   "outputs": [
    {
     "ename": "NameError",
     "evalue": "name 't' is not defined",
     "output_type": "error",
     "traceback": [
      "\u001b[1;31m---------------------------------------------------------------------------\u001b[0m",
      "\u001b[1;31mNameError\u001b[0m                                 Traceback (most recent call last)",
      "\u001b[1;32m<ipython-input-30-3d7fe47fe4a0>\u001b[0m in \u001b[0;36m<module>\u001b[1;34m()\u001b[0m\n\u001b[1;32m----> 1\u001b[1;33m \u001b[0mimage\u001b[0m \u001b[1;33m=\u001b[0m \u001b[0mmake_frame\u001b[0m\u001b[1;33m(\u001b[0m\u001b[0mt\u001b[0m\u001b[1;33m)\u001b[0m\u001b[1;33m\u001b[0m\u001b[0m\n\u001b[0m\u001b[0;32m      2\u001b[0m \u001b[0mplt\u001b[0m\u001b[1;33m.\u001b[0m\u001b[0mimshow\u001b[0m\u001b[1;33m(\u001b[0m\u001b[0mimage\u001b[0m\u001b[1;33m)\u001b[0m\u001b[1;33m\u001b[0m\u001b[0m\n",
      "\u001b[1;31mNameError\u001b[0m: name 't' is not defined"
     ]
    }
   ],
   "source": [
    "image = make_frame(t)\n",
    "plt.imshow(image)"
   ]
  },
  {
   "cell_type": "code",
   "execution_count": 66,
   "metadata": {},
   "outputs": [
    {
     "name": "stdout",
     "output_type": "stream",
     "text": [
      "[MoviePy] >>>> Building video test_smooth.mp4\n",
      "[MoviePy] Writing audio in test_smoothTEMP_MPY_wvf_snd.mp4\n"
     ]
    },
    {
     "name": "stderr",
     "output_type": "stream",
     "text": [
      "100%|███████████████████████████████████████████████████████████████████████████████| 221/221 [00:00<00:00, 232.75it/s]\n"
     ]
    },
    {
     "name": "stdout",
     "output_type": "stream",
     "text": [
      "[MoviePy] Done.\n",
      "[MoviePy] Writing video test_smooth.mp4\n"
     ]
    },
    {
     "name": "stderr",
     "output_type": "stream",
     "text": [
      "100%|███████████████████████████████████████████████████████████████████████████████▋| 290/291 [00:23<00:00, 12.42it/s]\n"
     ]
    },
    {
     "name": "stdout",
     "output_type": "stream",
     "text": [
      "[MoviePy] Done.\n",
      "[MoviePy] >>>> Video ready: test_smooth.mp4 \n",
      "\n"
     ]
    }
   ],
   "source": [
    "duration = 10\n",
    "animation = mpe.VideoClip(make_frame, duration=duration)\n",
    "audio = original.audio.set_duration(duration)\n",
    "animation = animation.set_audio(audio)\n",
    "\n",
    "# clip = mpe.clips_array([[original, animation]])\n",
    "animation.write_videofile('test_smooth.mp4', fps=fps, audio_codec='aac', remove_temp=True)\n",
    "#animation.ipython_display(fps=26, loop=True, autoplay=True)"
   ]
  },
  {
   "cell_type": "code",
   "execution_count": 71,
   "metadata": {},
   "outputs": [
    {
     "data": {
      "text/plain": [
       "[<matplotlib.lines.Line2D at 0x126d4159cf8>]"
      ]
     },
     "execution_count": 71,
     "metadata": {},
     "output_type": "execute_result"
    },
    {
     "data": {
      "image/png": "[encoded data removed]",
      "text/plain": [
       "<Figure size 432x288 with 2 Axes>"
      ]
     },
     "metadata": {},
     "output_type": "display_data"
    }
   ],
   "source": [
    "m[:,0,:].shape\n",
    "joint_slice = m[:,0,:]\n",
    "gradient_x = np.abs(np.diff(joint_slice[:,0]))\n",
    "gradient_y = np.abs(np.diff(joint_slice[:,1]))\n",
    "abs_grad = gradient_x * gradient_x + gradient_y + gradient_y\n",
    "plt.subplot(2,1,1)\n",
    "plt.plot(joint_slice[:,0])\n",
    "plt.plot(abs_grad)\n",
    "plt.subplot(2,1,2)\n",
    "plt.plot(joint_slice[:,1])\n",
    "plt.plot(gradient_y)"
   ]
  },
  {
   "cell_type": "code",
   "execution_count": 72,
   "metadata": {},
   "outputs": [
    {
     "data": {
      "text/plain": [
       "<matplotlib.image.AxesImage at 0x126d98d9278>"
      ]
     },
     "execution_count": 72,
     "metadata": {},
     "output_type": "execute_result"
    },
    {
     "data": {
      "image/png": "[encoded data removed]",
      "text/plain": [
       "<Figure size 432x288 with 3 Axes>"
      ]
     },
     "metadata": {},
     "output_type": "display_data"
    }
   ],
   "source": [
    "index = np.argmax(abs_grad)\n",
    "plt.subplot(3,1,1)\n",
    "plt.imshow(make_frame(times[index-1]))\n",
    "plt.subplot(3,1,2)\n",
    "plt.imshow(make_frame(times[index]))\n",
    "plt.subplot(3,1,3)\n",
    "plt.imshow(make_frame(times[index+1]))"
   ]
  },
  {
   "cell_type": "code",
   "execution_count": 70,
   "metadata": {},
   "outputs": [
    {
     "name": "stdout",
     "output_type": "stream",
     "text": [
      "index 415 i: [ 1117.36211038   513.30783129] i-1: [ 613.63916445  572.07420941] i+1: [ 592.86121941  585.65461421]\n",
      "after [ 603.25019193  578.86441181]\n",
      "index 442 i: [ 1117.77322721   513.0420959 ] i-1: [ 618.47134614  561.28079081] i+1: [ 596.02623463  585.10165405]\n",
      "after [ 607.24879038  573.19122243]\n",
      "index 517 i: [ 576.8273387   584.80213976] i-1: [ 578.7560786   582.14999723] i+1: [ 1116.52136874   513.39527535]\n",
      "after [ 847.63872367  547.77263629]\n",
      "index 518 i: [ 1116.52136874   513.39527535] i-1: [ 847.63872367  547.77263629] i+1: [ 568.70287681  582.48982453]\n",
      "after [ 708.17080024  565.13123041]\n",
      "index 684 i: [ 530.04149008  565.59473324] i-1: [ 719.59264231  598.37808418] i+1: [ 1117.43499744   511.4459753 ]\n",
      "after [ 918.51381987  554.91202974]\n",
      "index 685 i: [ 1117.43499744   511.4459753 ] i-1: [ 918.51381987  554.91202974] i+1: [ 534.02960348  569.52572989]\n",
      "after [ 726.27171168  562.21887982]\n",
      "index 1017 i: [ 1117.82259512   513.9614172 ] i-1: [ 599.27959538  584.88239217] i+1: [ 595.24551147  581.28737831]\n",
      "after [ 597.26255342  583.08488524]\n",
      "index 1475 i: [ 549.65007579  599.78206277] i-1: [ 550.4379859   599.19096661] i+1: [ 1115.51535785   508.76916617]\n",
      "after [ 832.97667187  553.98006639]\n",
      "index 1476 i: [ 1115.51535785   508.76916617] i-1: [ 832.97667187  553.98006639] i+1: [ 551.06850743  604.00125061]\n",
      "after [ 692.02258965  578.9906585 ]\n",
      "index 1477 i: [ 551.06850743  604.00125061] i-1: [ 692.02258965  578.9906585 ] i+1: [ 1115.68894595   509.3366307 ]\n",
      "after [ 903.8557678  544.1636446]\n",
      "index 1483 i: [ 1113.29772401   505.50528383] i-1: [ 1111.93784237   503.13314533] i+1: [ 504.11898613  586.43317628]\n",
      "after [ 808.02841425  544.78316081]\n",
      "index 1510 i: [ 1117.60463023   509.15937388] i-1: [ 1117.56218004   509.15974855] i+1: [ 575.82321262  533.16753089]\n",
      "after [ 846.69269633  521.16363972]\n",
      "index 1516 i: [ 484.86801815  581.62758017] i-1: [ 480.88285398  578.85406017] i+1: [ 1117.65542865   512.87328601]\n",
      "after [ 799.26914132  545.86367309]\n",
      "index 1517 i: [ 1117.65542865   512.87328601] i-1: [ 799.26914132  545.86367309] i+1: [ 519.29872918  518.75331354]\n",
      "after [ 659.28393525  532.30849332]\n",
      "index 1526 i: [ 536.3556838   468.39971521] i-1: [ 570.4842453   432.64073658] i+1: [ 1117.70416248   512.68862963]\n",
      "after [ 844.09420389  472.6646831 ]\n",
      "index 1527 i: [ 1117.70416248   512.68862963] i-1: [ 844.09420389  472.6646831 ] i+1: [ 460.23270521  517.87391341]\n",
      "after [ 652.16345455  495.26929826]\n",
      "index 1528 i: [ 460.23270521  517.87391341] i-1: [ 652.16345455  495.26929826] i+1: [ 1117.80537283   512.85444903]\n",
      "after [ 884.98441369  504.06187364]\n",
      "index 1529 i: [ 1117.80537283   512.85444903] i-1: [ 884.98441369  504.06187364] i+1: [ 511.58507156  503.42675591]\n",
      "after [ 698.28474263  503.74431477]\n",
      "index 1539 i: [ 593.19862437  519.06264973] i-1: [ 1112.69010305   504.05139923] i+1: [ 1115.14112425   512.64052558]\n",
      "after [ 1113.91561365   508.34596241]\n",
      "index 1581 i: [ 561.30716586  461.60903871] i-1: [ 555.6594657   482.80414057] i+1: [ 1117.48593307   512.28000879]\n",
      "after [ 836.57269938  497.54207468]\n",
      "index 1582 i: [ 1117.48593307   512.28000879] i-1: [ 836.57269938  497.54207468] i+1: [ 509.45756328  496.38375473]\n",
      "after [ 673.01513133  496.96291471]\n",
      "index 1601 i: [ 586.25977063  493.53374088] i-1: [ 558.88545513  505.84271359] i+1: [ 1116.18545358   508.66107625]\n",
      "after [ 837.53545436  507.25189492]\n",
      "index 1655 i: [ 578.89253318  524.93387777] i-1: [ 602.64896929  512.50480223] i+1: [ 1115.58713579   512.75789046]\n",
      "after [ 859.11805254  512.63134634]\n",
      "index 1656 i: [ 1115.58713579   512.75789046] i-1: [ 859.11805254  512.63134634] i+1: [ 557.39070082  560.44850898]\n",
      "after [ 708.25437668  536.53992766]\n",
      "index 1681 i: [ 1117.46921051   512.67031813] i-1: [ 654.56759739  541.86632395] i+1: [ 521.11512518  509.60508454]\n",
      "after [ 587.84136128  525.73570424]\n",
      "index 1704 i: [ 1116.26141268   509.70398283] i-1: [ 598.66893291  546.68717301] i+1: [ 594.7953912   580.76971775]\n",
      "after [ 596.73216206  563.72844538]\n",
      "index 1736 i: [ 602.74949157  543.91375899] i-1: [ 641.57878208  526.53380895] i+1: [  64.09762669  589.23676109]\n",
      "after [ 352.83820438  557.88528502]\n",
      "index 1788 i: [ 443.89872956  513.19434214] i-1: [ 203.00715762  540.42800605] i+1: [ 1115.43297863   508.67025775]\n",
      "after [ 659.22006813  524.5491319 ]\n",
      "index 1789 i: [ 1115.43297863   508.67025775] i-1: [ 659.22006813  524.5491319 ] i+1: [ 388.18821254  531.39868611]\n",
      "after [ 523.70414034  527.97390901]\n",
      "index 1808 i: [ 1116.85995543   513.64872646] i-1: [ 1116.8744992   513.1161952] i+1: [ 593.10117787  550.17978293]\n",
      "after [ 854.98783854  531.64798906]\n",
      "index 1809 i: [ 593.10117787  550.17978293] i-1: [ 854.98783854  531.64798906] i+1: [  69.34240031  586.71083939]\n",
      "after [ 462.16511942  559.17941423]\n",
      "index 1823 i: [ 471.14455533  624.10307741] i-1: [  67.13871545  591.67302227] i+1: [ 1116.63282126   509.855075  ]\n",
      "after [ 591.88576835  550.76404864]\n",
      "index 1826 i: [ 1116.14750744   508.67744547] i-1: [ 1116.30316675   509.46908474] i+1: [ 525.6750977   581.51173198]\n",
      "after [ 820.98913223  545.49040836]\n",
      "index 1948 i: [ 523.10545987  548.26759216] i-1: [ 534.42640591  524.20386896] i+1: [ 1112.49091101   501.28750145]\n",
      "after [ 823.45865846  512.7456852 ]\n",
      "index 1994 i: [ 574.56004071  563.61868551] i-1: [ 558.37909985  552.77330875] i+1: [ 1116.11844499   508.52309936]\n",
      "after [ 837.24877242  530.64820406]\n",
      "index 1995 i: [ 1116.11844499   508.52309936] i-1: [ 837.24877242  530.64820406] i+1: [ 467.87456131  516.05750766]\n",
      "after [ 652.56166686  523.35285586]\n",
      "index 2003 i: [ 583.23491764  531.56250978] i-1: [ 583.18072796  531.58484969] i+1: [ 1116.96623152   510.03596115]\n",
      "after [ 850.07347974  520.81040542]\n",
      "index 2004 i: [ 1116.96623152   510.03596115] i-1: [ 850.07347974  520.81040542] i+1: [ 553.15127397  569.31969738]\n",
      "after [ 701.61237685  545.0650514 ]\n",
      "index 2005 i: [ 553.15127397  569.31969738] i-1: [ 701.61237685  545.0650514 ] i+1: [ 1116.95918733   510.36464238]\n",
      "after [ 909.28578209  527.71484689]\n",
      "index 2014 i: [ 568.07625055  499.28450108] i-1: [ 567.42986679  507.37845486] i+1: [ 1117.07178509   510.41419911]\n",
      "after [ 842.25082594  508.89632699]\n",
      "index 2150 i: [ 1117.52047801   514.84974575] i-1: [ 643.06795841  511.05352163] i+1: [ 576.22691154  504.25912642]\n",
      "after [ 609.64743498  507.65632403]\n",
      "index 2160 i: [ 518.65456557  536.66916776] i-1: [ 499.33814454  551.77138591] i+1: [ 1116.68108219   512.36300111]\n",
      "after [ 808.00961336  532.06719351]\n",
      "index 2161 i: [ 1116.68108219   512.36300111] i-1: [ 808.00961336  532.06719351] i+1: [ 566.44081521  577.84567142]\n",
      "after [ 687.22521429  554.95643246]\n",
      "index 2223 i: [ 498.18896294  616.2675972 ] i-1: [ 477.71379101  598.16282272] i+1: [ 1115.34747934   514.48786354]\n",
      "after [ 796.53063518  556.32534313]\n",
      "index 2227 i: [  95.46604848  614.0475626 ] i-1: [  95.36143017  613.48337007] i+1: [ 696.52604103  578.86624432]\n",
      "after [ 395.9437356   596.17480719]\n",
      "index 2241 i: [ 675.14198256  628.07116842] i-1: [ 808.44400716  706.9187392 ] i+1: [  97.99171782  607.70573664]\n",
      "after [ 453.21786249  657.31223792]\n",
      "index 2242 i: [  97.99171782  607.70573664] i-1: [ 453.21786249  657.31223792] i+1: [ 646.86922359  639.50553513]\n",
      "after [ 550.04354304  648.40888652]\n",
      "index 2433 i: [ 1117.64921761   513.61992955] i-1: [ 685.64430583  577.1249361 ] i+1: [ 540.73732352  560.82150316]\n",
      "after [ 613.19081467  568.97321963]\n",
      "index 2629 i: [ 560.41150999  572.52076268] i-1: [ 561.51291513  591.03771043] i+1: [ 1116.55434287   508.32071155]\n",
      "after [ 839.033629    549.67921099]\n",
      "index 2630 i: [ 1116.55434287   508.32071155] i-1: [ 839.033629    549.67921099] i+1: [ 545.44799685  567.59379911]\n",
      "after [ 692.24081293  558.63650505]\n",
      "index 2660 i: [ 574.83914399  566.13790536] i-1: [ 567.95911741  579.9210146 ] i+1: [ 1116.79277599   509.7731508 ]\n",
      "after [ 842.3759467  544.8470827]\n",
      "index 2661 i: [ 1116.79277599   509.7731508 ] i-1: [ 842.3759467  544.8470827] i+1: [ 577.1458776   594.40491939]\n",
      "after [ 709.76091215  569.62600104]\n",
      "index 2851 i: [ 581.24039567  530.40023208] i-1: [ 555.65679854  521.91617656] i+1: [ 1115.16829586   513.92693233]\n",
      "after [ 835.4125472   517.92155445]\n",
      "index 2936 i: [ 544.80133247  539.97046104] i-1: [ 539.56271455  566.33372164] i+1: [ 1112.46570015   502.5480361 ]\n"
     ]
    },
    {
     "name": "stdout",
     "output_type": "stream",
     "text": [
      "after [ 826.01420735  534.44087887]\n",
      "index 2954 i: [ 586.46655691  585.55593038] i-1: [ 574.97548366  580.08379544] i+1: [ 1116.61260504   510.27027321]\n",
      "after [ 845.79404435  545.17703432]\n",
      "index 2956 i: [ 1116.83286285   510.48549891] i-1: [ 1116.61260504   510.27027321] i+1: [ 554.65606284  555.26928997]\n",
      "after [ 835.63433394  532.76978159]\n",
      "index 2963 i: [ 533.43302941  530.25567341] i-1: [ 536.32135081  552.33130503] i+1: [ 1111.78791642   503.31941676]\n",
      "after [ 824.05463362  527.82536089]\n",
      "index 2964 i: [ 1111.78791642   503.31941676] i-1: [ 824.05463362  527.82536089] i+1: [ 579.14605898  602.29616344]\n",
      "after [ 701.6003463   565.06076217]\n",
      "index 2965 i: [ 579.14605898  602.29616344] i-1: [ 701.6003463   565.06076217] i+1: [ 1112.10975552   502.92969131]\n",
      "after [ 906.85505091  533.99522674]\n",
      "index 2988 i: [ 570.06797063  560.74530244] i-1: [ 671.02090454  565.43792558] i+1: [ 1111.66327381   503.33801723]\n",
      "after [ 891.34208918  534.3879714 ]\n",
      "index 3031 i: [ 511.77590799  586.41984868] i-1: [ 511.73970413  578.85573101] i+1: [ 1116.89872819   513.21911263]\n",
      "after [ 814.31921616  546.03742182]\n",
      "index 3032 i: [ 1116.89872819   513.21911263] i-1: [ 814.31921616  546.03742182] i+1: [ 520.09146976  564.93252891]\n",
      "after [ 667.20534296  555.48497537]\n",
      "index 3084 i: [ 581.54249632  549.66449511] i-1: [ 574.6485827   579.84990251] i+1: [ 1116.40195557   509.71934772]\n",
      "after [ 845.52526914  544.78462511]\n",
      "index 3085 i: [ 1116.40195557   509.71934772] i-1: [ 845.52526914  544.78462511] i+1: [ 583.12216163  581.00184667]\n",
      "after [ 714.32371538  562.89323589]\n",
      "index 3099 i: [ 574.65952802  545.26242375] i-1: [ 568.92209125  554.57902455] i+1: [ 1112.4677639    503.52941394]\n",
      "after [ 840.69492757  529.05421925]\n",
      "index 3100 i: [ 1112.4677639    503.52941394] i-1: [ 840.69492757  529.05421925] i+1: [ 577.62646699  581.17393744]\n",
      "after [ 709.16069728  555.11407834]\n",
      "index 3307 i: [ 625.87319303  547.65791562] i-1: [ 793.53938389  497.76008916] i+1: [  95.06480122  612.67335534]\n",
      "after [ 444.30209255  555.21672225]\n",
      "index 3308 i: [  95.06480122  612.67335534] i-1: [ 444.30209255  555.21672225] i+1: [ 795.72739539  504.02596974]\n",
      "after [ 620.01474397  529.621346  ]\n",
      "index 3309 i: [ 795.72739539  504.02596974] i-1: [ 620.01474397  529.621346  ] i+1: [  95.04418802  612.25092462]\n",
      "after [ 357.529466    570.93613531]\n",
      "index 3311 i: [  94.8886435   612.52661157] i-1: [  95.04418802  612.25092462] i+1: [ 689.37423038  568.75951815]\n",
      "after [ 392.2092092   590.50522138]\n",
      "index 3488 i: [ 546.26050913  534.06300545] i-1: [ 544.73669934  547.93515944] i+1: [ 1112.85349941   503.11651826]\n",
      "after [ 828.79509938  525.52583885]\n",
      "index 3489 i: [ 1112.85349941   503.11651826] i-1: [ 828.79509938  525.52583885] i+1: [ 529.07614422  568.09473991]\n",
      "after [ 678.9356218   546.81028938]\n",
      "index 3490 i: [ 529.07614422  568.09473991] i-1: [ 678.9356218   546.81028938] i+1: [ 1112.78200245   503.09967685]\n",
      "after [ 895.85881212  524.95498312]\n",
      "index 3493 i: [ 1112.97302818   503.09382939] i-1: [ 1112.84343576   503.1780448 ] i+1: [ 525.20163822  572.76571262]\n",
      "after [ 819.02253699  537.97187871]\n",
      "index 3504 i: [ 1112.95295238   503.4613018 ] i-1: [ 644.48944473  556.62573564] i+1: [ 529.37604165  579.62809259]\n",
      "after [ 586.93274319  568.12691411]\n",
      "index 3653 i: [ 569.43918896  567.69566345] i-1: [ 571.73092684  569.94281316] i+1: [ 1115.29252338   513.4483521 ]\n",
      "after [ 843.51172511  541.69558263]\n",
      "index 3654 i: [ 1115.29252338   513.4483521 ] i-1: [ 843.51172511  541.69558263] i+1: [ 565.10744381  574.63403463]\n",
      "after [ 704.30958446  558.16480863]\n",
      "index 3680 i: [ 551.65444899  567.88835382] i-1: [ 551.2334671  570.4925946] i+1: [ 1116.58695066   507.92601044]\n",
      "after [ 833.91020888  539.20930252]\n",
      "index 3683 i: [ 1116.57775497   507.947122  ] i-1: [ 744.62805891  591.81732225] i+1: [ 547.13486767  577.54403853]\n",
      "after [ 645.88146329  584.68068039]\n",
      "index 3748 i: [ 571.16148329  575.95398378] i-1: [ 574.49793863  580.02670985] i+1: [ 1116.57608634   508.72208214]\n",
      "after [ 845.53701249  544.374396  ]\n",
      "index 3749 i: [ 1116.57608634   508.72208214] i-1: [ 845.53701249  544.374396  ] i+1: [ 565.84378338  581.08259344]\n",
      "after [ 705.69039793  562.72849472]\n",
      "index 3762 i: [ 567.68940043  581.24492037] i-1: [ 569.49109793  578.44282281] i+1: [ 1112.55621624   503.45902038]\n",
      "after [ 841.02365708  540.9509216 ]\n",
      "index 3777 i: [ 569.03636789  588.82790643] i-1: [ 567.63952947  581.53607523] i+1: [ 1112.38545275   503.73535991]\n",
      "after [ 840.01249111  542.63571757]\n",
      "index 3778 i: [ 1112.38545275   503.73535991] i-1: [ 840.01249111  542.63571757] i+1: [ 569.50728703  569.62237263]\n",
      "after [ 704.75988907  556.1290451 ]\n",
      "index 3827 i: [ 723.54623729  595.52698195] i-1: [ 720.37795329  589.95637619] i+1: [  95.71290946  612.81336367]\n",
      "after [ 408.04543138  601.38486993]\n",
      "index 3942 i: [ 535.43686199  589.90276873] i-1: [ 697.47823048  577.8190062 ] i+1: [ 1118.20325375   514.66167188]\n",
      "after [ 907.84074211  546.24033904]\n",
      "index 3961 i: [ 543.98307943  579.77016743] i-1: [ 544.69535518  580.35029206] i+1: [ 1117.47036254   511.73523712]\n",
      "after [ 831.08285886  546.04276459]\n",
      "index 3962 i: [ 1117.47036254   511.73523712] i-1: [ 831.08285886  546.04276459] i+1: [ 541.46211326  582.49893832]\n",
      "after [ 686.27248606  564.27085146]\n",
      "index 3986 i: [ 588.4245064   590.14436817] i-1: [ 596.82732993  586.94330215] i+1: [ 1117.43167746   513.96238375]\n",
      "after [ 857.1295037   550.45284295]\n",
      "index 3987 i: [ 1117.43167746   513.96238375] i-1: [ 857.1295037   550.45284295] i+1: [ 574.8446548   593.19873667]\n",
      "after [ 715.98707925  571.82578981]\n",
      "index 4512 i: [ 548.1132337   588.64715898] i-1: [ 551.02821255  594.93175459] i+1: [ 1117.9285351    513.85217714]\n",
      "after [ 834.47837383  554.39196587]\n",
      "index 4514 i: [ 1117.86981988   513.58020592] i-1: [ 1117.9285351    513.85217714] i+1: [ 541.48825431  571.01401371]\n",
      "after [ 829.70839471  542.43309543]\n",
      "index 4524 i: [ 539.48574972  587.21158081] i-1: [ 539.87077335  577.20259476] i+1: [ 1117.47215748   513.11246276]\n",
      "after [ 828.67146541  545.15752876]\n",
      "index 4526 i: [ 1117.52694249   513.10330415] i-1: [ 1117.47215748   513.11246276] i+1: [ 542.09426832  583.75541472]\n",
      "after [ 829.7832129   548.43393874]\n",
      "index 4641 i: [ 573.85572684  590.55121493] i-1: [ 576.48027086  588.80185091] i+1: [ 1117.54366982   510.82578611]\n",
      "after [ 847.01197034  549.81381851]\n",
      "index 4642 i: [ 1117.54366982   510.82578611] i-1: [ 847.01197034  549.81381851] i+1: [ 564.4574607   571.55097097]\n",
      "after [ 705.73471552  560.68239474]\n",
      "index 4655 i: [ 571.76257989  592.80446529] i-1: [ 573.28456497  588.17971706] i+1: [ 1117.38211119   510.14820433]\n",
      "after [ 845.33333808  549.1639607 ]\n",
      "index 4657 i: [ 1117.40903509   510.03958702] i-1: [ 1117.38211119   510.14820433] i+1: [ 566.61470795  564.86679435]\n",
      "after [ 841.99840957  537.50749934]\n",
      "index 4664 i: [ 557.12448597  563.23305988] i-1: [ 544.84793806  581.14455593] i+1: [ 1117.51674211   510.08342266]\n",
      "after [ 831.18234009  545.61398929]\n",
      "index 4665 i: [ 1117.51674211   510.08342266] i-1: [ 831.18234009  545.61398929] i+1: [ 570.31080914  598.00797176]\n",
      "after [ 700.74657461  571.81098053]\n",
      "index 4674 i: [ 561.98249722  552.42869425] i-1: [ 758.50093818  576.03257537] i+1: [ 1117.28490007   509.57102323]\n",
      "after [ 937.89291912  542.8017993 ]\n",
      "index 4675 i: [ 1117.28490007   509.57102323] i-1: [ 937.89291912  542.8017993 ] i+1: [ 551.58597374  588.12010062]\n",
      "after [ 744.73944643  565.46094996]\n",
      "index 4678 i: [ 562.26419091  573.67633891] i-1: [ 550.98380899  590.4365139 ] i+1: [ 1117.15272808   509.77578604]\n",
      "after [ 834.06826854  550.10614997]\n",
      "index 4679 i: [ 1117.15272808   509.77578604] i-1: [ 834.06826854  550.10614997] i+1: [ 576.94571209  599.14578009]\n",
      "after [ 705.50699031  574.62596503]\n",
      "index 4701 i: [ 561.17079306  576.40206933] i-1: [ 723.84860462  570.89627957] i+1: [ 1116.82947987   509.23740745]\n",
      "after [ 920.33904225  540.06684351]\n",
      "index 4720 i: [ 559.8933413   591.56241274] i-1: [ 558.19522572  584.5244379 ] i+1: [ 1115.58690506   508.11429781]\n",
      "after [ 836.89106539  546.31936786]\n",
      "index 4722 i: [ 1116.15683128   507.40445888] i-1: [ 1115.58690506   508.11429781] i+1: [ 394.330742    534.94468474]\n",
      "after [ 754.95882353  521.52949128]\n"
     ]
    },
    {
     "name": "stdout",
     "output_type": "stream",
     "text": [
      "index 4750 i: [  67.09162134  589.00510681] i-1: [  66.630633    588.88658452] i+1: [ 591.39667813  548.33696957]\n",
      "after [ 329.01365557  568.61177704]\n",
      "index 4751 i: [ 591.39667813  548.33696957] i-1: [ 329.01365557  568.61177704] i+1: [ 1115.70173493   507.66883233]\n",
      "after [ 722.35769525  538.14030469]\n",
      "index 4752 i: [ 1115.70173493   507.66883233] i-1: [ 722.35769525  538.14030469] i+1: [ 490.73690569  580.64746904]\n",
      "after [ 606.54730047  559.39388687]\n",
      "index 4754 i: [ 483.86180396  580.98203915] i-1: [ 490.73690569  580.64746904] i+1: [ 1115.79962321   507.56673855]\n",
      "after [ 803.26826445  544.10710379]\n",
      "index 4755 i: [ 1115.79962321   507.56673855] i-1: [ 803.26826445  544.10710379] i+1: [ 474.26256943  582.94323254]\n",
      "after [ 638.76541694  563.52516817]\n",
      "index 4766 i: [ 1114.72060335   506.98063385] i-1: [ 697.15919369  531.88737288] i+1: [ 589.45034474  546.82645422]\n",
      "after [ 643.30476922  539.35691355]\n",
      "index 4767 i: [ 589.45034474  546.82645422] i-1: [ 643.30476922  539.35691355] i+1: [  64.18008614  586.67227459]\n",
      "after [ 353.74242768  563.01459407]\n",
      "index 4871 i: [ 572.38851789  545.3835206 ] i-1: [ 749.94663644  563.56350282] i+1: [ 1112.44200039   502.18848038]\n",
      "after [ 931.19431841  532.8759916 ]\n",
      "index 4939 i: [ 697.45137835  562.47049296] i-1: [ 611.3982392  532.7879678] i+1: [  94.77208972  612.15281954]\n",
      "after [ 353.08516446  572.47039367]\n",
      "index 4949 i: [ 543.57612872  550.94296694] i-1: [ 524.3812604   566.17521596] i+1: [ 1118.64287925   513.66543531]\n",
      "after [ 821.51206982  539.92032564]\n",
      "index 4951 i: [ 1118.66917276   513.82229829] i-1: [ 1118.64287925   513.66543531] i+1: [ 515.00287849  582.36167765]\n",
      "after [ 816.82287887  548.01355648]\n",
      "index 4953 i: [  98.8736279   608.73717499] i-1: [ 515.00287849  582.36167765] i+1: [ 654.77273774  595.53226578]\n",
      "after [ 584.88780811  588.94697171]\n",
      "index 4955 i: [ 657.60815144  583.28442264] i-1: [ 654.77273774  595.53226578] i+1: [  99.19285363  608.43702316]\n",
      "after [ 376.98279569  601.98464447]\n",
      "index 4967 i: [ 1116.67536271   509.28421795] i-1: [ 600.66657686  547.69127133] i+1: [ 576.98112535  582.00750685]\n",
      "after [ 588.82385111  564.84938909]\n",
      "index 4984 i: [ 474.46828842  493.56258941] i-1: [ 458.41502297  469.51478255] i+1: [ 1116.2811653    513.28119874]\n",
      "after [ 787.34809414  491.39799064]\n",
      "index 4985 i: [ 1116.2811653    513.28119874] i-1: [ 787.34809414  491.39799064] i+1: [ 379.03770345  549.16161883]\n",
      "after [ 583.1928988   520.27980474]\n",
      "index 4986 i: [ 379.03770345  549.16161883] i-1: [ 583.1928988   520.27980474] i+1: [ 1116.57081836   513.44986653]\n",
      "after [ 849.88185858  516.86483563]\n",
      "index 5010 i: [  65.23834038  587.60475415] i-1: [  60.00163863  593.22231793] i+1: [ 588.68997383  545.02868184]\n",
      "after [ 324.34580623  569.12549989]\n",
      "index 5011 i: [ 588.68997383  545.02868184] i-1: [ 324.34580623  569.12549989] i+1: [ 1112.14160728   502.45260954]\n",
      "after [ 718.24370676  535.78905471]\n",
      "index 5013 i: [ 1116.75441664   508.61669838] i-1: [ 1112.14160728   502.45260954] i+1: [ 478.74401355  594.37077534]\n",
      "after [ 795.44281042  548.41169244]\n",
      "index 5158 i: [ 1112.06293106   502.30127287] i-1: [ 816.76326999  517.95635219] i+1: [ 588.14872313  544.86824173]\n",
      "after [ 702.45599656  531.41229696]\n",
      "index 5159 i: [ 588.14872313  544.86824173] i-1: [ 702.45599656  531.41229696] i+1: [  64.23451519  587.43521059]\n",
      "after [ 383.34525587  559.42375377]\n",
      "index 5191 i: [ 580.64161712  580.7632758 ] i-1: [ 564.65197569  526.34105325] i+1: [ 1111.76630425   502.31384659]\n",
      "after [ 838.20913997  514.32744992]\n",
      "index 5198 i: [ 513.601475    613.93655384] i-1: [ 550.00515103  555.50473428] i+1: [ 1113.01673365   499.98919631]\n",
      "after [ 831.51094234  527.74696529]\n",
      "index 5199 i: [ 1113.01673365   499.98919631] i-1: [ 831.51094234  527.74696529] i+1: [ 493.90130162  609.36583257]\n",
      "after [ 662.70612198  568.55639893]\n",
      "index 5201 i: [ 523.76770794  548.22808325] i-1: [ 493.90130162  609.36583257] i+1: [ 1117.07454777   507.60407722]\n",
      "after [ 805.4879247   558.48495489]\n",
      "index 5202 i: [ 1117.07454777   507.60407722] i-1: [ 805.4879247   558.48495489] i+1: [ 576.05764103  628.98687869]\n",
      "after [ 690.77278286  593.73591679]\n",
      "index 5373 i: [ 595.43327767  538.65613759] i-1: [ 588.12385638  537.90733314] i+1: [ 1116.94894123   513.353791  ]\n",
      "after [ 852.53639881  525.63056207]\n",
      "index 5515 i: [ 541.81780994  585.59361506] i-1: [ 542.89504361  589.21391714] i+1: [ 1117.69145226   511.27984595]\n",
      "after [ 830.29324794  550.24688154]\n",
      "index 5549 i: [ 427.95244799  550.19273543] i-1: [ 423.66171598  548.55575341] i+1: [ 1113.20455027   503.01973605]\n",
      "after [ 768.43313313  525.78774473]\n",
      "index 5570 i: [ 478.05005717  590.12006521] i-1: [ 477.96591997  590.21175814] i+1: [ 1113.01650858   503.42979479]\n",
      "after [ 795.49121428  546.82077646]\n",
      "index 5576 i: [ 1116.37415388   507.87374985] i-1: [ 616.14373255  564.39512527] i+1: [ 478.06695795  595.2088936 ]\n",
      "after [ 547.10534525  579.80200943]\n",
      "index 5625 i: [ 578.89919281  582.76431775] i-1: [ 577.49804473  589.9112848 ] i+1: [ 1116.33897018   509.51962614]\n",
      "after [ 846.91850746  549.71545547]\n",
      "index 5626 i: [ 1116.33897018   509.51962614] i-1: [ 846.91850746  549.71545547] i+1: [ 578.24485135  548.17691123]\n",
      "after [ 712.5816794   548.94618335]\n",
      "index 5640 i: [ 509.08851469  547.08619291] i-1: [ 506.83010387  581.52279878] i+1: [ 1117.09500241   509.80996466]\n",
      "after [ 811.96255314  545.66638172]\n",
      "index 5654 i: [ 512.63181734  602.187953  ] i-1: [ 509.57535601  597.38900292] i+1: [ 1117.1645633    509.85738242]\n",
      "after [ 813.36995965  553.62319267]\n",
      "index 5655 i: [ 1117.1645633    509.85738242] i-1: [ 813.36995965  553.62319267] i+1: [ 525.32381213  612.71500444]\n",
      "after [ 669.34688589  583.16909856]\n",
      "index 5663 i: [ 546.70008612  614.85115695] i-1: [ 546.36787415  615.75235486] i+1: [ 1115.83482456   513.08884549]\n",
      "after [ 831.10134935  564.42060018]\n",
      "index 5666 i: [ 1114.61225748   512.79549241] i-1: [ 1116.83173007   509.72777426] i+1: [ 541.7180891   549.88746774]\n",
      "after [ 829.27490959  529.807621  ]\n",
      "index 5701 i: [ 496.43071508  591.73579001] i-1: [ 487.48860145  596.67993617] i+1: [ 1114.1138705    505.77131748]\n",
      "after [ 800.80123597  551.22562683]\n",
      "index 5702 i: [ 1114.1138705    505.77131748] i-1: [ 800.80123597  551.22562683] i+1: [ 504.39495659  597.81141353]\n",
      "after [ 652.59809628  574.51852018]\n",
      "index 5710 i: [ 485.83434594  597.34009147] i-1: [ 485.33011341  597.64181209] i+1: [ 1111.65079618   502.76514173]\n",
      "after [ 798.49045479  550.20347691]\n",
      "index 5711 i: [ 1111.65079618   502.76514173] i-1: [ 798.49045479  550.20347691] i+1: [ 494.30219436  572.74734718]\n",
      "after [ 646.39632457  561.47541204]\n",
      "index 5843 i: [ 577.56306243  582.50146937] i-1: [ 577.73433757  564.47132105] i+1: [ 1111.39055037   502.68474698]\n",
      "after [ 844.56244397  533.57803401]\n",
      "index 6033 i: [ 457.02840328  590.60898972] i-1: [ 456.85328531  594.71450877] i+1: [ 1116.19034173   512.66075754]\n",
      "after [ 786.52181352  553.68763316]\n",
      "index 6034 i: [ 1116.19034173   512.66075754] i-1: [ 786.52181352  553.68763316] i+1: [ 439.51212692  566.70616555]\n",
      "after [ 613.01697022  560.19689935]\n",
      "index 6041 i: [  58.09762335  594.8403194 ] i-1: [ 432.37738824  516.63591498] i+1: [ 606.3702147   598.00078964]\n",
      "after [ 519.37380147  557.31835231]\n",
      "index 6047 i: [ 583.81704783  605.21122837] i-1: [ 587.48136449  609.83090568] i+1: [ 1112.20282078   502.81152701]\n",
      "after [ 849.84209263  556.32121634]\n",
      "index 6058 i: [  94.80999804  613.93853605] i-1: [  98.08818042  613.00905728] i+1: [ 637.07667398  590.87023306]\n",
      "after [ 367.5824272   601.93964517]\n",
      "index 6100 i: [ 646.58514929  630.78410316] i-1: [ 1117.02288616   508.56322509] i+1: [  94.30163646  613.32858872]\n",
      "after [ 605.66226131  560.94590691]\n",
      "index 6101 i: [  94.30163646  613.32858872] i-1: [ 605.66226131  560.94590691] i+1: [ 617.14240122  602.29335439]\n",
      "after [ 611.40233126  581.61963065]\n",
      "index 6162 i: [  58.58322859  595.50131351] i-1: [ 392.89680409  513.1141212 ] i+1: [ 645.44231081  616.41181874]\n",
      "after [ 519.16955745  564.76296997]\n",
      "index 6163 i: [ 645.44231081  616.41181874] i-1: [ 519.16955745  564.76296997] i+1: [  98.28693163  609.69296551]\n",
      "after [ 308.72824454  587.22796774]\n",
      "index 6166 i: [ 387.15886879  517.8578465 ] i-1: [  98.79284537  608.72901201] i+1: [ 1112.35039997   502.97045851]\n",
      "after [ 605.57162267  555.84973526]\n"
     ]
    },
    {
     "name": "stdout",
     "output_type": "stream",
     "text": [
      "index 6167 i: [ 1112.35039997   502.97045851] i-1: [ 605.57162267  555.84973526] i+1: [ 568.83581996  583.37881851]\n",
      "after [ 587.20372131  569.61427689]\n",
      "index 6244 i: [ 572.68233663  582.24383688] i-1: [ 616.77373648  563.83594114] i+1: [ 1117.83385921   511.1852417 ]\n",
      "after [ 867.30379784  537.51059142]\n",
      "index 6265 i: [ 595.55874595  591.64807749] i-1: [ 717.76144254  597.38804591] i+1: [ 1117.9812988    513.33934593]\n",
      "after [ 917.87137067  555.36369592]\n",
      "index 6266 i: [ 1117.9812988    513.33934593] i-1: [ 917.87137067  555.36369592] i+1: [ 581.84828234  587.97542263]\n",
      "after [ 749.85982651  571.66955927]\n",
      "index 6616 i: [ 684.57432109  520.33046579] i-1: [ 625.73890305  527.87495756] i+1: [ 114.29191077  609.5456841 ]\n",
      "after [ 370.01540691  568.71032083]\n"
     ]
    }
   ],
   "source": [
    "maxv = np.max(abs_grad)\n",
    "threshold = 0.5 * maxv\n",
    "for i in range(1,abs_grad.shape[0]-1):\n",
    "    if abs_grad[i] > threshold:\n",
    "        print(f\"index {i} i: {m[i,0]} i-1: {m[i-1,0]} i+1: {m[i+1,0]}\")\n",
    "        m[i,0] = (m[i-1,0] + m[i+1,0])/2\n",
    "        print(f\"after {m[i,0]}\")"
   ]
  },
  {
   "cell_type": "code",
   "execution_count": 57,
   "metadata": {},
   "outputs": [],
   "source": [
    "def smooth(a,WSZ):\n",
    "    # a: NumPy 1-D array containing the data to be smoothed\n",
    "    # WSZ: smoothing window size needs, which must be odd number,\n",
    "    # as in the original MATLAB implementation\n",
    "    v = np.ones(WSZ,dtype=int)\n",
    "    out0 = np.convolve(a,v,'valid')/WSZ    \n",
    "    r = np.arange(1,WSZ-1,2)\n",
    "    start = np.cumsum(a[:WSZ-1])[::2]/r\n",
    "    stop = (np.cumsum(a[:-WSZ:-1])[::2]/r)[::-1]\n",
    "    return np.concatenate((  start , out0, stop  ))"
   ]
  },
  {
   "cell_type": "code",
   "execution_count": 58,
   "metadata": {},
   "outputs": [],
   "source": [
    "for i in range(m.shape[1]):\n",
    "    for j in range(m.shape[2]):\n",
    "        m[:,i,j] = smooth(m[:,i,j],5)"
   ]
  },
  {
   "cell_type": "code",
   "execution_count": 73,
   "metadata": {},
   "outputs": [
    {
     "data": {
      "text/plain": [
       "<matplotlib.image.AxesImage at 0x126d7271630>"
      ]
     },
     "execution_count": 73,
     "metadata": {},
     "output_type": "execute_result"
    },
    {
     "data": {
      "image/png": "[encoded data removed]",
      "text/plain": [
       "<Figure size 432x288 with 3 Axes>"
      ]
     },
     "metadata": {},
     "output_type": "display_data"
    }
   ],
   "source": [
    "plt.subplot(3,1,1)\n",
    "plt.imshow(make_frame(times[index-1]))\n",
    "plt.subplot(3,1,2)\n",
    "plt.imshow(make_frame(times[index]))\n",
    "plt.subplot(3,1,3)\n",
    "plt.imshow(make_frame(times[index+1]))"
   ]
  },
  {
   "cell_type": "code",
   "execution_count": null,
   "metadata": {},
   "outputs": [],
   "source": []
  }
 ],
 "metadata": {
  "kernelspec": {
   "display_name": "Python 3",
   "language": "python",
   "name": "python3"
  },
  "language_info": {
   "codemirror_mode": {
    "name": "ipython",
    "version": 3
   },
   "file_extension": ".py",
   "mimetype": "text/x-python",
   "name": "python",
   "nbconvert_exporter": "python",
   "pygments_lexer": "ipython3",
   "version": "3.6.5"
  }
 },
 "nbformat": 4,
 "nbformat_minor": 2
}
