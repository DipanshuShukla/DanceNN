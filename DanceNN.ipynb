{
 "cells": [
  {
   "cell_type": "code",
   "execution_count": 1,
   "metadata": {
    "scrolled": true
   },
   "outputs": [
    {
     "name": "stdout",
     "output_type": "stream",
     "text": [
      "WARNING:tensorflow:From /Users/davidspeck/.pyenv/versions/3.6.4/lib/python3.6/site-packages/tensorflow/contrib/learn/python/learn/datasets/base.py:198: retry (from tensorflow.contrib.learn.python.learn.datasets.base) is deprecated and will be removed in a future version.\n",
      "Instructions for updating:\n",
      "Use the retry module or similar alternatives.\n"
     ]
    }
   ],
   "source": [
    "import pandas as pd\n",
    "import numpy as np\n",
    "import gizeh\n",
    "import moviepy.editor as mpe\n",
    "import matplotlib.image as mpimg\n",
    "import matplotlib.pyplot as plt\n",
    "%matplotlib inline\n",
    "\n",
    "import utils"
   ]
  },
  {
   "cell_type": "code",
   "execution_count": 2,
   "metadata": {},
   "outputs": [
    {
     "name": "stdout",
     "output_type": "stream",
     "text": [
      "./data/video/JustSomeMotion_CaravanPalace_Brotherswing.mp4\n"
     ]
    }
   ],
   "source": [
    "video_name = \"JustSomeMotion_CaravanPalace_Brotherswing\"\n",
    "path = \"./data/video/{0}.mp4\".format(video_name)\n",
    "pose_dir = './data/poses/{0}'.format(video_name)\n",
    "print(path)\n",
    "\n",
    "step_size = 10"
   ]
  },
  {
   "cell_type": "code",
   "execution_count": null,
   "metadata": {},
   "outputs": [],
   "source": [
    "# utils.preprocess(video_name)"
   ]
  },
  {
   "cell_type": "code",
   "execution_count": 15,
   "metadata": {},
   "outputs": [],
   "source": [
    "df = pd.read_csv('./data/poses/JustSomeMotion_CaravanPalace_Brotherswing_poses.csv')\n",
    "df_matrix = df.as_matrix()"
   ]
  },
  {
   "cell_type": "code",
   "execution_count": 44,
   "metadata": {},
   "outputs": [],
   "source": [
    "def make_frame(t):\n",
    "    surface = gizeh.Surface(1024,1024)\n",
    "    frame = 5000 + int(t * 26)\n",
    "    radius = 20\n",
    "    xy1 = (df_matrix[frame][1], df_matrix[frame][2])\n",
    "    xy2 = (df_matrix[frame][3], df_matrix[frame][4])\n",
    "    xy3 = (df_matrix[frame][5], df_matrix[frame][6])\n",
    "    xy4 = (df_matrix[frame][7], df_matrix[frame][8])\n",
    "    circle = gizeh.circle(radius, xy = xy1, fill=(1,0,0))\n",
    "    circle.draw(surface)\n",
    "    circle = gizeh.circle(radius, xy = xy2, fill=(0,1,0))\n",
    "    circle.draw(surface)\n",
    "    circle = gizeh.circle(radius, xy = xy3, fill=(0,0,1))\n",
    "    circle.draw(surface)\n",
    "    circle = gizeh.circle(radius, xy = xy4, fill=(1,1,0))\n",
    "    circle.draw(surface)\n",
    "    return surface.get_npimage()"
   ]
  },
  {
   "cell_type": "code",
   "execution_count": 45,
   "metadata": {},
   "outputs": [
    {
     "name": "stdout",
     "output_type": "stream",
     "text": [
      "[MoviePy] >>>> Building video test.mp4\n",
      "[MoviePy] Writing video test.mp4\n"
     ]
    },
    {
     "name": "stderr",
     "output_type": "stream",
     "text": [
      "\n",
      "  0%|          | 0/53 [00:00<?, ?it/s]\u001b[A\n",
      "  6%|▌         | 3/53 [00:00<00:02, 22.89it/s]\u001b[A\n",
      " 11%|█▏        | 6/53 [00:00<00:02, 23.18it/s]\u001b[A\n",
      " 17%|█▋        | 9/53 [00:00<00:01, 23.34it/s]\u001b[A\n",
      " 23%|██▎       | 12/53 [00:00<00:01, 23.15it/s]\u001b[A\n",
      " 28%|██▊       | 15/53 [00:00<00:01, 23.20it/s]\u001b[A\n",
      " 34%|███▍      | 18/53 [00:00<00:01, 23.16it/s]\u001b[A\n",
      " 40%|███▉      | 21/53 [00:00<00:01, 23.24it/s]\u001b[A\n",
      " 45%|████▌     | 24/53 [00:01<00:01, 23.19it/s]\u001b[A\n",
      " 51%|█████     | 27/53 [00:01<00:01, 23.15it/s]\u001b[A\n",
      " 57%|█████▋    | 30/53 [00:01<00:00, 23.22it/s]\u001b[A\n",
      " 62%|██████▏   | 33/53 [00:01<00:00, 23.23it/s]\u001b[A\n",
      " 68%|██████▊   | 36/53 [00:01<00:00, 23.25it/s]\u001b[A\n",
      " 74%|███████▎  | 39/53 [00:01<00:00, 23.28it/s]\u001b[A\n",
      " 79%|███████▉  | 42/53 [00:01<00:00, 23.30it/s]\u001b[A\n",
      " 85%|████████▍ | 45/53 [00:01<00:00, 23.28it/s]\u001b[A\n",
      " 91%|█████████ | 48/53 [00:02<00:00, 23.27it/s]\u001b[A\n",
      " 96%|█████████▌| 51/53 [00:02<00:00, 23.28it/s]\u001b[A\n",
      " 98%|█████████▊| 52/53 [00:02<00:00, 23.28it/s]\u001b[A"
     ]
    },
    {
     "name": "stdout",
     "output_type": "stream",
     "text": [
      "[MoviePy] Done.\n",
      "[MoviePy] >>>> Video ready: test.mp4 \n",
      "\n"
     ]
    }
   ],
   "source": [
    "clip = mpe.VideoClip(make_frame, duration=2)\n",
    "clip.write_videofile('test.mp4', fps=26)"
   ]
  },
  {
   "cell_type": "code",
   "execution_count": 22,
   "metadata": {},
   "outputs": [
    {
     "data": {
      "text/plain": [
       "114.56228768825531"
      ]
     },
     "execution_count": 22,
     "metadata": {},
     "output_type": "execute_result"
    }
   ],
   "source": [
    "df_matrix[10][1]"
   ]
  },
  {
   "cell_type": "code",
   "execution_count": null,
   "metadata": {},
   "outputs": [],
   "source": []
  }
 ],
 "metadata": {
  "kernelspec": {
   "display_name": "Python 3",
   "language": "python",
   "name": "python3"
  },
  "language_info": {
   "codemirror_mode": {
    "name": "ipython",
    "version": 3
   },
   "file_extension": ".py",
   "mimetype": "text/x-python",
   "name": "python",
   "nbconvert_exporter": "python",
   "pygments_lexer": "ipython3",
   "version": "3.6.4"
  }
 },
 "nbformat": 4,
 "nbformat_minor": 2
}
